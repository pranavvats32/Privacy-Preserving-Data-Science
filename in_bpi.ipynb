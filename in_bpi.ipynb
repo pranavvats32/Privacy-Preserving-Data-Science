{
 "cells": [
  {
   "cell_type": "code",
   "execution_count": null,
   "metadata": {},
   "outputs": [],
   "source": [
    "import pandas as pd\n",
    "\n",
    "# Define the file path\n",
    "file_path = \"BPI_Challenge_2017.xes\"\n",
    "\n",
    "# Load the file into a DataFrame (assuming it is space-separated)\n",
    "df = pd.read_csv(file_path, delimiter=' ', header=None)\n",
    "\n",
    "# Display the first few rows\n",
    "print(df.head())\n",
    "\n",
    "#dataset to big to be imported once\n"
   ]
  },
  {
   "cell_type": "code",
   "execution_count": null,
   "metadata": {},
   "outputs": [],
   "source": [
    "import pandas as pd\n",
    "\n",
    "file_path = \"BPI_Challenge_2017.xes\"  # Update with actual path\n",
    "\n",
    "# Load only the first 1000 rows to inspect the structure\n",
    "df = pd.read_csv(file_path, nrows=1000)\n",
    "\n",
    "print(df.head())\n",
    "print(df.info())  # See column types\n"
   ]
  }
 ],
 "metadata": {
  "kernelspec": {
   "display_name": "apm-a1",
   "language": "python",
   "name": "python3"
  },
  "language_info": {
   "codemirror_mode": {
    "name": "ipython",
    "version": 3
   },
   "file_extension": ".py",
   "mimetype": "text/x-python",
   "name": "python",
   "nbconvert_exporter": "python",
   "pygments_lexer": "ipython3",
   "version": "3.11.3"
  }
 },
 "nbformat": 4,
 "nbformat_minor": 2
}
